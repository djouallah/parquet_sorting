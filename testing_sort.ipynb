{
 "cells": [
  {
   "cell_type": "markdown",
   "metadata": {
    "id": "C34ja9O_XZSU"
   },
   "source": [
    "# Print Runtime"
   ]
  },
  {
   "cell_type": "code",
   "execution_count": 1,
   "metadata": {
    "id": "ej6Yo5pQXuM-"
   },
   "outputs": [],
   "source": [
    "sf=10"
   ]
  },
  {
   "cell_type": "code",
   "execution_count": 2,
   "metadata": {
    "colab": {
     "base_uri": "https://localhost:8080/",
     "height": 35
    },
    "id": "XZag4ZSSXUqw",
    "outputId": "781967d0-b661-4905-bdb1-8b6635030483"
   },
   "outputs": [
    {
     "data": {
      "text/plain": [
       "'Lineitem-SF10 ,Google Colab, 16 vCPU 59.0GB'"
      ]
     },
     "execution_count": 2,
     "metadata": {},
     "output_type": "execute_result"
    }
   ],
   "source": [
    "from psutil import *\n",
    "vCPU = str(cpu_count()) + \" vCPU\"\n",
    "mem=round(virtual_memory().total/(1024 * 1024 * 1024),0)\n",
    "runtime = 'Lineitem-SF'+str(sf)+' ,Google Colab, '+vCPU+' '+str(mem)+'GB'\n",
    "runtime"
   ]
  },
  {
   "cell_type": "markdown",
   "metadata": {
    "id": "XwpvNhRHBWQf"
   },
   "source": [
    "# Install Packages"
   ]
  },
  {
   "cell_type": "code",
   "execution_count": 3,
   "metadata": {
    "id": "zp9radlkeSGP"
   },
   "outputs": [
    {
     "name": "stdout",
     "output_type": "stream",
     "text": [
      "Requirement already satisfied: pyarrow in /opt/conda/lib/python3.7/site-packages (11.0.0)\n",
      "Requirement already satisfied: numpy>=1.16.6 in /opt/conda/lib/python3.7/site-packages (from pyarrow) (1.21.6)\n",
      "Collecting duckdb\n",
      "  Using cached duckdb-0.7.2.dev1623-cp37-cp37m-manylinux_2_17_x86_64.manylinux2014_x86_64.whl (14.9 MB)\n",
      "Installing collected packages: duckdb\n",
      "Successfully installed duckdb-0.7.2.dev1623\n",
      "Collecting polars\n",
      "  Using cached polars-0.17.0-cp37-abi3-manylinux_2_17_x86_64.manylinux2014_x86_64.whl (16.9 MB)\n",
      "Requirement already satisfied: typing_extensions>=4.0.1 in /opt/conda/lib/python3.7/site-packages (from polars) (4.5.0)\n",
      "Installing collected packages: polars\n",
      "Successfully installed polars-0.17.0\n",
      "Collecting datafusion==0.8\n",
      "  Using cached datafusion-0.8.0-cp37-abi3-manylinux_2_31_x86_64.whl (12.7 MB)\n",
      "Requirement already satisfied: pyarrow>=6.0.1 in /opt/conda/lib/python3.7/site-packages (from datafusion==0.8) (11.0.0)\n",
      "Requirement already satisfied: numpy>=1.16.6 in /opt/conda/lib/python3.7/site-packages (from pyarrow>=6.0.1->datafusion==0.8) (1.21.6)\n",
      "Installing collected packages: datafusion\n",
      "Successfully installed datafusion-0.8.0\n",
      "  % Total    % Received % Xferd  Average Speed   Time    Time     Time  Current\n",
      "                                 Dload  Upload   Total   Spent    Left  Speed\n",
      "100  2739    0  2739    0     0   8225      0 --:--:-- --:--:-- --:--:--  8225\n",
      "\n",
      "Will download https://builds.clickhouse.com/master/amd64/clickhouse into clickhouse.2\n",
      "\n",
      "  % Total    % Received % Xferd  Average Speed   Time    Time     Time  Current\n",
      "                                 Dload  Upload   Total   Spent    Left  Speed\n",
      "100  530M  100  530M    0     0  34.7M      0  0:00:15  0:00:15 --:--:-- 39.1M\n",
      "\n",
      "Successfully downloaded the ClickHouse binary, you can run it as:\n",
      "    ./clickhouse.2\n",
      "\n",
      "You can also install it:\n",
      "    sudo ./clickhouse.2 install\n"
     ]
    }
   ],
   "source": [
    "!pip install pyarrow --upgrade\n",
    "!pip install duckdb --pre --upgrade\n",
    "!pip install polars\n",
    "!pip install datafusion==0.8\n",
    "!curl https://clickhouse.com/ | sh\n",
    "#could not install pyspark, something to do with java or some stuff in that nature"
   ]
  },
  {
   "cell_type": "markdown",
   "metadata": {
    "id": "3ar7WHOfAQm3"
   },
   "source": [
    "# Generate Parquet File"
   ]
  },
  {
   "cell_type": "code",
   "execution_count": 4,
   "metadata": {
    "colab": {
     "base_uri": "https://localhost:8080/"
    },
    "id": "eVV-nZ_THdVx",
    "outputId": "4081ba0a-4321-4dd3-adb4-20bd2dc83b62"
   },
   "outputs": [
    {
     "name": "stdout",
     "output_type": "stream",
     "text": [
      "CPU times: user 5min 4s, sys: 19.3 s, total: 5min 24s\n",
      "Wall time: 2min 41s\n"
     ]
    }
   ],
   "source": [
    "%%time\n",
    "import duckdb\n",
    "import pathlib\n",
    "\n",
    "\n",
    "for x in range(0, sf) :\n",
    "  con=duckdb.connect()\n",
    "  con.sql('PRAGMA disable_progress_bar;SET preserve_insertion_order=false')\n",
    "  con.sql(f\"CALL dbgen(sf={sf} , children ={sf}, step = {x})\") \n",
    "  for tbl in ['lineitem'] :\n",
    "     pathlib.Path(f'./{tbl}').mkdir(parents=True, exist_ok=True) \n",
    "     con.sql(f\"COPY (SELECT * FROM {tbl}) TO './{tbl}/{x}.parquet' \")\n",
    "  con.close()"
   ]
  },
  {
   "cell_type": "markdown",
   "metadata": {
    "id": "HeDmyVhzee8V"
   },
   "source": [
    "# DataFusion"
   ]
  },
  {
   "cell_type": "code",
   "execution_count": 5,
   "metadata": {
    "id": "jq0cwqC50y1f"
   },
   "outputs": [
    {
     "name": "stdout",
     "output_type": "stream",
     "text": [
      "CPU times: user 2min 16s, sys: 18 s, total: 2min 34s\n",
      "Wall time: 1min 5s\n"
     ]
    }
   ],
   "source": [
    "%%time\n",
    "from datafusion import SessionContext\n",
    "ctx = SessionContext()\n",
    "ctx.register_parquet('lineitem', './lineitem/*.parquet')\n",
    "df = ctx.sql(\"select * from lineitem order by l_shipdate\")\n",
    "df.write_parquet(\"lineitem_Datafusion\")"
   ]
  },
  {
   "cell_type": "markdown",
   "metadata": {
    "id": "yqhDecjmncVE"
   },
   "source": [
    "# DuckDB"
   ]
  },
  {
   "cell_type": "code",
   "execution_count": 6,
   "metadata": {
    "id": "0HK-TCztkYmr"
   },
   "outputs": [
    {
     "name": "stdout",
     "output_type": "stream",
     "text": [
      "CPU times: user 3min 52s, sys: 39.3 s, total: 4min 31s\n",
      "Wall time: 27.9 s\n"
     ]
    }
   ],
   "source": [
    "%%time\n",
    "import duckdb \n",
    "duckdb.sql(\n",
    "'''\n",
    "PRAGMA disable_progress_bar;\n",
    "COPY  (select * from './lineitem/*.parquet' order by l_shipdate )\n",
    "to 'lineitem_DuckDB' (FORMAT 'PARQUET', PER_THREAD_OUTPUT TRUE)\n",
    "''')"
   ]
  },
  {
   "cell_type": "markdown",
   "metadata": {
    "id": "JziMdMTGBpLD"
   },
   "source": [
    "# Clickhouse"
   ]
  },
  {
   "cell_type": "code",
   "execution_count": 7,
   "metadata": {
    "id": "iQFJpOOz_D2S"
   },
   "outputs": [
    {
     "name": "stdout",
     "output_type": "stream",
     "text": [
      "CPU times: user 1.91 s, sys: 614 ms, total: 2.53 s\n",
      "Wall time: 1min 36s\n"
     ]
    }
   ],
   "source": [
    "%%time\n",
    "#Query 1\n",
    "!./clickhouse local --query=\" \\\n",
    "    select * FROM file ('./lineitem/*.parquet',Parquet) \\\n",
    "    order by l_shipdate \\\n",
    "    INTO OUTFILE 'clickhouse.parquet' \\\n",
    "    FORMAT Parquet \\\n",
    "    \""
   ]
  },
  {
   "cell_type": "markdown",
   "metadata": {
    "id": "-odTmS2dikyT"
   },
   "source": [
    "# Polars"
   ]
  },
  {
   "cell_type": "code",
   "execution_count": 8,
   "metadata": {
    "id": "GlEMX0jOcJ4M"
   },
   "outputs": [
    {
     "name": "stderr",
     "output_type": "stream",
     "text": [
      "STREAMING CHUNK SIZE: 3125 rows\n"
     ]
    },
    {
     "name": "stdout",
     "output_type": "stream",
     "text": [
      "CPU times: user 2min 50s, sys: 40.5 s, total: 3min 31s\n",
      "Wall time: 1min 15s\n"
     ]
    }
   ],
   "source": [
    "%%time\n",
    "import polars as pl\n",
    "pl.scan_parquet(\"./lineitem/*.parquet\").sort(\"l_shipdate\").sink_parquet(\"lineitem_sort_polars.parquet\")"
   ]
  },
  {
   "cell_type": "markdown",
   "metadata": {
    "id": "IpjjaxGw1s5b"
   },
   "source": [
    "# Pyarrow"
   ]
  },
  {
   "cell_type": "code",
   "execution_count": null,
   "metadata": {
    "id": "4zgt3Q--10mM"
   },
   "outputs": [],
   "source": [
    "%%time\n",
    "import pyarrow.dataset as ds\n",
    "lineitem = ds.dataset('./lineitem',format=\"parquet\").sort_by('l_shipdate')\n",
    "ds.write_dataset(lineitem,'./pyarrow', format=\"parquet\")"
   ]
  }
 ],
 "metadata": {
  "colab": {
   "provenance": [],
   "toc_visible": true
  },
  "kernelspec": {
   "display_name": "Python (Local)",
   "language": "python",
   "name": "local-base"
  },
  "language_info": {
   "codemirror_mode": {
    "name": "ipython",
    "version": 3
   },
   "file_extension": ".py",
   "mimetype": "text/x-python",
   "name": "python",
   "nbconvert_exporter": "python",
   "pygments_lexer": "ipython3",
   "version": "3.7.12"
  }
 },
 "nbformat": 4,
 "nbformat_minor": 4
}
